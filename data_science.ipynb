{
  "nbformat": 4,
  "nbformat_minor": 0,
  "metadata": {
    "colab": {
      "provenance": []
    },
    "kernelspec": {
      "name": "python3",
      "display_name": "Python 3"
    },
    "language_info": {
      "name": "python"
    }
  },
  "cells": [
    {
      "cell_type": "markdown",
      "source": [
        "# Data Science Notebook\n"
      ],
      "metadata": {
        "id": "RI4Pqwriv3Rg"
      }
    },
    {
      "cell_type": "markdown",
      "source": [
        "## Introduction\n",
        "In this notebook, we will explore various important aspects of data science, including programming languages, libraries, tools, and some examples of arithmetic expressions.\n"
      ],
      "metadata": {
        "id": "jHdT0-7dv9KV"
      }
    },
    {
      "cell_type": "markdown",
      "source": [
        "## Data Science Languages\n",
        "- Python\n",
        "- R\n",
        "- SQL\n",
        "- Julia\n",
        "- Scala\n",
        "- Java\n"
      ],
      "metadata": {
        "id": "bxU48HOkv_W5"
      }
    },
    {
      "cell_type": "markdown",
      "source": [
        "## Data Science Libraries\n",
        "- Pandas\n",
        "- NumPy\n",
        "- Matplotlib\n",
        "- Seaborn\n",
        "- SciPy\n",
        "- Scikit-learn\n",
        "- TensorFlow\n",
        "- PyTorch\n"
      ],
      "metadata": {
        "id": "T2F98zu2wAdY"
      }
    },
    {
      "cell_type": "markdown",
      "source": [
        "## Data Science Tools\n",
        "| Tool            | Description                                      |\n",
        "|-----------------|--------------------------------------------------|\n",
        "| Jupyter Notebook| Interactive computing environment                |\n",
        "| RStudio         | IDE for R                                        |\n",
        "| Apache Hadoop   | Framework for distributed storage and processing |\n",
        "| Apache Spark    | Unified analytics engine for big data            |\n",
        "| Tableau         | Data visualization tool                          |\n"
      ],
      "metadata": {
        "id": "LFRs69wSwEYF"
      }
    },
    {
      "cell_type": "markdown",
      "source": [
        "## Arithmetic Expression Examples\n",
        "Below are examples of basic arithmetic operations such as addition and multiplication.\n"
      ],
      "metadata": {
        "id": "hlFqsNIswF1q"
      }
    },
    {
      "cell_type": "code",
      "source": [
        "# Multiplying and adding numbers\n",
        "result = (5 * 4) + 3\n",
        "result\n"
      ],
      "metadata": {
        "colab": {
          "base_uri": "https://localhost:8080/"
        },
        "id": "28vkDLOpwGLC",
        "outputId": "857dddcd-543d-4bd2-b097-6929df23a42a"
      },
      "execution_count": 4,
      "outputs": [
        {
          "output_type": "execute_result",
          "data": {
            "text/plain": [
              "23"
            ]
          },
          "metadata": {},
          "execution_count": 4
        }
      ]
    },
    {
      "cell_type": "code",
      "source": [
        "# Converting minutes to hours\n",
        "minutes = 120\n",
        "hours = minutes / 60\n",
        "hours\n"
      ],
      "metadata": {
        "colab": {
          "base_uri": "https://localhost:8080/"
        },
        "id": "P7xUx1VawIkU",
        "outputId": "ecd1d662-cf36-4a78-ff53-0522c8328d41"
      },
      "execution_count": 5,
      "outputs": [
        {
          "output_type": "execute_result",
          "data": {
            "text/plain": [
              "2.0"
            ]
          },
          "metadata": {},
          "execution_count": 5
        }
      ]
    },
    {
      "cell_type": "markdown",
      "source": [
        "## Objectives\n",
        "- Understand the basics of data science\n",
        "- Learn about popular data science languages and libraries\n",
        "- Perform basic arithmetic operations in Python\n",
        "- Convert units using Python code\n"
      ],
      "metadata": {
        "id": "NscrszVQwLZ4"
      }
    },
    {
      "cell_type": "markdown",
      "source": [
        "## Author\n",
        "Sasha Uribe\n"
      ],
      "metadata": {
        "id": "tSuj78RSwMqB"
      }
    }
  ]
}